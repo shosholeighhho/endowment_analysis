{
 "cells": [
  {
   "cell_type": "code",
   "execution_count": 1,
   "id": "fa43e479",
   "metadata": {},
   "outputs": [],
   "source": [
    "import requests\n",
    "import pandas as pd\n",
    "import os"
   ]
  },
  {
   "cell_type": "code",
   "execution_count": 22,
   "id": "4c6b64bb",
   "metadata": {},
   "outputs": [],
   "source": [
    "data_2021 = pd.read_csv('../index_2018.csv', index_col=False)"
   ]
  },
  {
   "cell_type": "code",
   "execution_count": 23,
   "id": "43969e07",
   "metadata": {},
   "outputs": [
    {
     "data": {
      "text/html": [
       "<div>\n",
       "<style scoped>\n",
       "    .dataframe tbody tr th:only-of-type {\n",
       "        vertical-align: middle;\n",
       "    }\n",
       "\n",
       "    .dataframe tbody tr th {\n",
       "        vertical-align: top;\n",
       "    }\n",
       "\n",
       "    .dataframe thead th {\n",
       "        text-align: right;\n",
       "    }\n",
       "</style>\n",
       "<table border=\"1\" class=\"dataframe\">\n",
       "  <thead>\n",
       "    <tr style=\"text-align: right;\">\n",
       "      <th></th>\n",
       "      <th>RETURN_ID</th>\n",
       "      <th>FILING_TYPE</th>\n",
       "      <th>EIN</th>\n",
       "      <th>TAX_PERIOD</th>\n",
       "      <th>SUB_DATE</th>\n",
       "      <th>TAXPAYER_NAME</th>\n",
       "      <th>RETURN_TYPE</th>\n",
       "      <th>DLN</th>\n",
       "      <th>OBJECT_ID</th>\n",
       "    </tr>\n",
       "  </thead>\n",
       "  <tbody>\n",
       "    <tr>\n",
       "      <th>0</th>\n",
       "      <td>15109264</td>\n",
       "      <td>EFILE</td>\n",
       "      <td>453578215</td>\n",
       "      <td>201612</td>\n",
       "      <td>1/10/2018 1:03:25 PM</td>\n",
       "      <td>MULEY FANATIC FOUNDATION OF WYOMING INC</td>\n",
       "      <td>990</td>\n",
       "      <td>93493318071517</td>\n",
       "      <td>201713189349307151</td>\n",
       "    </tr>\n",
       "    <tr>\n",
       "      <th>1</th>\n",
       "      <td>15109263</td>\n",
       "      <td>EFILE</td>\n",
       "      <td>383333202</td>\n",
       "      <td>201612</td>\n",
       "      <td>1/10/2018 1:03:23 PM</td>\n",
       "      <td>KALAMAZOO COMMUNITY FOUNDATION</td>\n",
       "      <td>990</td>\n",
       "      <td>93493318071467</td>\n",
       "      <td>201713189349307146</td>\n",
       "    </tr>\n",
       "    <tr>\n",
       "      <th>2</th>\n",
       "      <td>15109260</td>\n",
       "      <td>EFILE</td>\n",
       "      <td>233014323</td>\n",
       "      <td>201612</td>\n",
       "      <td>1/10/2018 1:03:20 PM</td>\n",
       "      <td>GOSPEL THROUGH COLOMBIA</td>\n",
       "      <td>990</td>\n",
       "      <td>93493318071317</td>\n",
       "      <td>201713189349307131</td>\n",
       "    </tr>\n",
       "    <tr>\n",
       "      <th>3</th>\n",
       "      <td>15109257</td>\n",
       "      <td>EFILE</td>\n",
       "      <td>351837569</td>\n",
       "      <td>201612</td>\n",
       "      <td>1/10/2018 1:03:17 PM</td>\n",
       "      <td>PREMIER ARTS INC</td>\n",
       "      <td>990</td>\n",
       "      <td>93493318071117</td>\n",
       "      <td>201713189349307111</td>\n",
       "    </tr>\n",
       "    <tr>\n",
       "      <th>4</th>\n",
       "      <td>15109256</td>\n",
       "      <td>EFILE</td>\n",
       "      <td>133135292</td>\n",
       "      <td>201706</td>\n",
       "      <td>1/10/2018 1:03:17 PM</td>\n",
       "      <td>ELDERS SHARE THE ARTS INC</td>\n",
       "      <td>990</td>\n",
       "      <td>93493318071067</td>\n",
       "      <td>201713189349307106</td>\n",
       "    </tr>\n",
       "  </tbody>\n",
       "</table>\n",
       "</div>"
      ],
      "text/plain": [
       "   RETURN_ID FILING_TYPE        EIN  TAX_PERIOD              SUB_DATE  \\\n",
       "0   15109264       EFILE  453578215      201612  1/10/2018 1:03:25 PM   \n",
       "1   15109263       EFILE  383333202      201612  1/10/2018 1:03:23 PM   \n",
       "2   15109260       EFILE  233014323      201612  1/10/2018 1:03:20 PM   \n",
       "3   15109257       EFILE  351837569      201612  1/10/2018 1:03:17 PM   \n",
       "4   15109256       EFILE  133135292      201706  1/10/2018 1:03:17 PM   \n",
       "\n",
       "                             TAXPAYER_NAME RETURN_TYPE             DLN  \\\n",
       "0  MULEY FANATIC FOUNDATION OF WYOMING INC         990  93493318071517   \n",
       "1           KALAMAZOO COMMUNITY FOUNDATION         990  93493318071467   \n",
       "2                  GOSPEL THROUGH COLOMBIA         990  93493318071317   \n",
       "3                         PREMIER ARTS INC         990  93493318071117   \n",
       "4                ELDERS SHARE THE ARTS INC         990  93493318071067   \n",
       "\n",
       "            OBJECT_ID  \n",
       "0  201713189349307151  \n",
       "1  201713189349307146  \n",
       "2  201713189349307131  \n",
       "3  201713189349307111  \n",
       "4  201713189349307106  "
      ]
     },
     "execution_count": 23,
     "metadata": {},
     "output_type": "execute_result"
    }
   ],
   "source": [
    "data_2021.head(n=5)"
   ]
  },
  {
   "cell_type": "code",
   "execution_count": null,
   "id": "64dcf0f6",
   "metadata": {},
   "outputs": [],
   "source": [
    "all_ids = list(pd.read_csv('../index_2021.csv').OBJECT_ID)\n",
    "all_ids.extend(list(pd.read_csv('../index_2020.csv').OBJECT_ID))"
   ]
  }
 ],
 "metadata": {
  "kernelspec": {
   "display_name": "Python 3 (ipykernel)",
   "language": "python",
   "name": "python3"
  },
  "language_info": {
   "codemirror_mode": {
    "name": "ipython",
    "version": 3
   },
   "file_extension": ".py",
   "mimetype": "text/x-python",
   "name": "python",
   "nbconvert_exporter": "python",
   "pygments_lexer": "ipython3",
   "version": "3.8.1"
  }
 },
 "nbformat": 4,
 "nbformat_minor": 5
}
